{
 "cells": [
  {
   "cell_type": "code",
   "execution_count": null,
   "id": "f53254d1-dc21-4aee-8bf4-c49b886664e5",
   "metadata": {},
   "outputs": [
    {
     "name": "stdout",
     "output_type": "stream",
     "text": [
      "C:\\Users\\vivek-pc\\Python\\MLDesign_FinalProject\n"
     ]
    }
   ],
   "source": [
    "# Use your location\n",
    "cd \"C:\\Users\\vivek-pc\\Python\\MLDesign_FinalProject\""
   ]
  },
  {
   "cell_type": "code",
   "execution_count": 1,
   "id": "cd48032d-7820-482e-beeb-0eca8a46c1f9",
   "metadata": {},
   "outputs": [
    {
     "name": "stderr",
     "output_type": "stream",
     "text": [
      "2025/04/22 22:30:15 INFO mlflow.tracking.fluent: Experiment with name 'YouTube Earnings Prediction' does not exist. Creating a new experiment.\n"
     ]
    },
    {
     "name": "stdout",
     "output_type": "stream",
     "text": [
      "✅ MLflow is set up. Logging to: C:\\Users\\vivek-pc\\Python\\MLDesign_FinalProject\\mlruns\n"
     ]
    }
   ],
   "source": [
    "# MLflow Setup Cell\n",
    "\n",
    "import mlflow\n",
    "import os\n",
    "\n",
    "# Set your MLflow tracking directory path\n",
    "mlflow_path = os.path.abspath(\"mlruns\")  # Automatically uses your current folder\n",
    "mlflow.set_tracking_uri(f\"file:///{mlflow_path.replace(os.sep, '/')}\")\n",
    "\n",
    "# Set your experiment name (it will be created if it doesn't exist)\n",
    "mlflow.set_experiment(\"YouTube Earnings Prediction\")\n",
    "\n",
    "print(f\"✅ MLflow is set up. Logging to: {mlflow_path}\")"
   ]
  },
  {
   "cell_type": "raw",
   "id": "e8ab53fe-3a7a-47f0-a813-c9fd98932934",
   "metadata": {},
   "source": [
    "### 1.Data Ingestion (Batch Pipeline)\n",
    "We performed batch ingestion using static `.csv` files:\n",
    "Loaded using `pandas.read_csv()` as part of the batch processing pipeline."
   ]
  },
  {
   "cell_type": "raw",
   "id": "78712cc6-f481-43b6-9598-6e75554e23a4",
   "metadata": {},
   "source": [
    "We used batch processing because:\n",
    "We load all the data at once using pandas.read_csv() to clean and process it.\n",
    "This means we are working with a static dataset, not real-time data."
   ]
  },
  {
   "cell_type": "raw",
   "id": "563d05e2-5d49-4861-9a8b-90911944aac9",
   "metadata": {},
   "source": [
    "We didn’t use streaming (real-time processing) because:\n",
    "Our project doesn't receive new data continuously\n",
    "It’s an offline analysis for model training\n",
    "CSV files don’t need to be read line by line in real-time"
   ]
  },
  {
   "cell_type": "code",
   "execution_count": 2,
   "id": "afc037be-a269-42ea-9a59-5fe6e5801c82",
   "metadata": {},
   "outputs": [],
   "source": [
    "#Step 1: Import Libraries\n",
    "import pandas as pd\n",
    "\n",
    "#Step 2: Load Dataset\n",
    "df = pd.read_csv(\"Global YouTube Statistics.csv\", encoding='ISO-8859-1')\n",
    "df.columns = df.columns.str.strip()  # Clean column names"
   ]
  },
  {
   "cell_type": "raw",
   "id": "789a2426-dbe5-4941-858d-1d8583f64795",
   "metadata": {},
   "source": [
    "### 2.Data Validation (Quality Checks)"
   ]
  },
  {
   "cell_type": "code",
   "execution_count": 3,
   "id": "cb1b4f85-6764-4aa9-884f-234cfccf4436",
   "metadata": {},
   "outputs": [
    {
     "name": "stdout",
     "output_type": "stream",
     "text": [
      "\n",
      "🔍 Dataset Overview:\n",
      "Shape: (995, 28)\n",
      "\n",
      "Data Types:\n",
      " rank                                         int64\n",
      "Youtuber                                    object\n",
      "subscribers                                  int64\n",
      "video views                                float64\n",
      "category                                    object\n",
      "Title                                       object\n",
      "uploads                                      int64\n",
      "Country                                     object\n",
      "Abbreviation                                object\n",
      "channel_type                                object\n",
      "video_views_rank                           float64\n",
      "country_rank                               float64\n",
      "channel_type_rank                          float64\n",
      "video_views_for_the_last_30_days           float64\n",
      "lowest_monthly_earnings                    float64\n",
      "highest_monthly_earnings                   float64\n",
      "lowest_yearly_earnings                     float64\n",
      "highest_yearly_earnings                    float64\n",
      "subscribers_for_last_30_days               float64\n",
      "created_year                               float64\n",
      "created_month                               object\n",
      "created_date                               float64\n",
      "Gross tertiary education enrollment (%)    float64\n",
      "Population                                 float64\n",
      "Unemployment rate                          float64\n",
      "Urban_population                           float64\n",
      "Latitude                                   float64\n",
      "Longitude                                  float64\n",
      "dtype: object\n",
      "\n",
      "Missing Values:\n",
      " rank                                         0\n",
      "Youtuber                                     0\n",
      "subscribers                                  0\n",
      "video views                                  0\n",
      "category                                    46\n",
      "Title                                        0\n",
      "uploads                                      0\n",
      "Country                                    122\n",
      "Abbreviation                               122\n",
      "channel_type                                30\n",
      "video_views_rank                             1\n",
      "country_rank                               116\n",
      "channel_type_rank                           33\n",
      "video_views_for_the_last_30_days            56\n",
      "lowest_monthly_earnings                      0\n",
      "highest_monthly_earnings                     0\n",
      "lowest_yearly_earnings                       0\n",
      "highest_yearly_earnings                      0\n",
      "subscribers_for_last_30_days               337\n",
      "created_year                                 5\n",
      "created_month                                5\n",
      "created_date                                 5\n",
      "Gross tertiary education enrollment (%)    123\n",
      "Population                                 123\n",
      "Unemployment rate                          123\n",
      "Urban_population                           123\n",
      "Latitude                                   123\n",
      "Longitude                                  123\n",
      "dtype: int64\n",
      "\n",
      "Duplicate Rows: 0\n",
      "\n",
      "Sample Data:\n",
      "    rank                    Youtuber  subscribers   video views  \\\n",
      "0     1                    T-Series    245000000  2.280000e+11   \n",
      "1     2              YouTube Movies    170000000  0.000000e+00   \n",
      "2     3                     MrBeast    166000000  2.836884e+10   \n",
      "3     4  Cocomelon - Nursery Rhymes    162000000  1.640000e+11   \n",
      "4     5                   SET India    159000000  1.480000e+11   \n",
      "\n",
      "           category                       Title  uploads        Country  \\\n",
      "0             Music                    T-Series    20082          India   \n",
      "1  Film & Animation               youtubemovies        1  United States   \n",
      "2     Entertainment                     MrBeast      741  United States   \n",
      "3         Education  Cocomelon - Nursery Rhymes      966  United States   \n",
      "4             Shows                   SET India   116536          India   \n",
      "\n",
      "  Abbreviation   channel_type  ...  subscribers_for_last_30_days  \\\n",
      "0           IN          Music  ...                     2000000.0   \n",
      "1           US          Games  ...                           NaN   \n",
      "2           US  Entertainment  ...                     8000000.0   \n",
      "3           US      Education  ...                     1000000.0   \n",
      "4           IN  Entertainment  ...                     1000000.0   \n",
      "\n",
      "   created_year  created_month  created_date  \\\n",
      "0        2006.0            Mar          13.0   \n",
      "1        2006.0            Mar           5.0   \n",
      "2        2012.0            Feb          20.0   \n",
      "3        2006.0            Sep           1.0   \n",
      "4        2006.0            Sep          20.0   \n",
      "\n",
      "   Gross tertiary education enrollment (%)    Population  Unemployment rate  \\\n",
      "0                                     28.1  1.366418e+09               5.36   \n",
      "1                                     88.2  3.282395e+08              14.70   \n",
      "2                                     88.2  3.282395e+08              14.70   \n",
      "3                                     88.2  3.282395e+08              14.70   \n",
      "4                                     28.1  1.366418e+09               5.36   \n",
      "\n",
      "   Urban_population   Latitude  Longitude  \n",
      "0       471031528.0  20.593684  78.962880  \n",
      "1       270663028.0  37.090240 -95.712891  \n",
      "2       270663028.0  37.090240 -95.712891  \n",
      "3       270663028.0  37.090240 -95.712891  \n",
      "4       471031528.0  20.593684  78.962880  \n",
      "\n",
      "[5 rows x 28 columns]\n",
      "\n",
      "Checking for numeric-like columns with invalid entries:\n",
      "subscribers: 0 non-numeric rows\n",
      "uploads: 0 non-numeric rows\n",
      "video views: 0 non-numeric rows\n",
      "lowest_yearly_earnings: 0 non-numeric rows\n",
      "highest_yearly_earnings: 0 non-numeric rows\n"
     ]
    }
   ],
   "source": [
    "print(\"\\n🔍 Dataset Overview:\")\n",
    "print(\"Shape:\", df.shape)\n",
    "print(\"\\nData Types:\\n\", df.dtypes)\n",
    "print(\"\\nMissing Values:\\n\", df.isnull().sum())\n",
    "print(\"\\nDuplicate Rows:\", df.duplicated().sum())\n",
    "print(\"\\nSample Data:\\n\", df.head())\n",
    "\n",
    "# Check for non-numeric entries in numeric columns\n",
    "print(\"\\nChecking for numeric-like columns with invalid entries:\")\n",
    "numeric_check_columns = ['subscribers', 'uploads', 'video views',\n",
    "                         'lowest_yearly_earnings', 'highest_yearly_earnings']\n",
    "for col in numeric_check_columns:\n",
    "    non_numeric = df[~df[col].astype(str).str.replace(',', '', regex=False)\n",
    "                     .str.replace('$', '', regex=False).str.strip().str.replace('.', '', regex=False).str.isnumeric()]\n",
    "    print(f\"{col}: {non_numeric.shape[0]} non-numeric rows\")"
   ]
  },
  {
   "cell_type": "raw",
   "id": "d49be4d3-0cb7-4e15-be75-0edc5150452e",
   "metadata": {},
   "source": [
    "### 3. Clean Currency Columns"
   ]
  },
  {
   "cell_type": "code",
   "execution_count": 4,
   "id": "c2d46a8d-b769-4dba-81e6-03a0db904b84",
   "metadata": {},
   "outputs": [],
   "source": [
    "currency_columns = ['lowest_yearly_earnings', 'highest_yearly_earnings']\n",
    "for col in currency_columns:\n",
    "    df[col] = (df[col]\n",
    "               .astype(str)\n",
    "               .str.replace('$', '', regex=False)\n",
    "               .str.replace(',', '', regex=False)\n",
    "               .str.strip()\n",
    "               .replace({'N/A': None, '-': None}))\n",
    "    df[col] = pd.to_numeric(df[col], errors='coerce')"
   ]
  },
  {
   "cell_type": "raw",
   "id": "ad025236-734e-4b58-886f-7473a5e6ee58",
   "metadata": {},
   "source": [
    "### 4. Clean Numeric Columns"
   ]
  },
  {
   "cell_type": "code",
   "execution_count": 5,
   "id": "559db866-e4b6-4c21-a59d-6bd1b99160b6",
   "metadata": {},
   "outputs": [],
   "source": [
    "numeric_columns = ['subscribers', 'uploads', 'video views']\n",
    "for col in numeric_columns:\n",
    "    df[col] = (df[col]\n",
    "               .astype(str)\n",
    "               .str.replace(',', '', regex=False)\n",
    "               .str.strip()\n",
    "               .replace({'N/A': None, '-': None}))\n",
    "    df[col] = pd.to_numeric(df[col], errors='coerce')"
   ]
  },
  {
   "cell_type": "raw",
   "id": "a326e810-566b-436e-acae-3b70214fded9",
   "metadata": {},
   "source": [
    "### Step 5: Drop Rows with Missing Targets or Key Features"
   ]
  },
  {
   "cell_type": "code",
   "execution_count": 6,
   "id": "989086f6-2723-44f7-94d4-d311b056c171",
   "metadata": {},
   "outputs": [],
   "source": [
    "df.dropna(subset=['highest_yearly_earnings', 'lowest_yearly_earnings'] + numeric_columns, inplace=True)"
   ]
  },
  {
   "cell_type": "code",
   "execution_count": 7,
   "id": "cce5c4a7-f9cd-4c3f-88a8-305589f1807f",
   "metadata": {},
   "outputs": [],
   "source": [
    "other_columns = ['video_views_rank', 'country_rank', 'channel_type_rank', 'video_views_for_the_last_30_days', 'lowest_monthly_earnings', 'highest_monthly_earnings', 'subscribers_for_last_30_days', 'Gross tertiary education enrollment (%)', 'Population', 'Unemployment rate', 'Urban_population']"
   ]
  },
  {
   "cell_type": "raw",
   "id": "a41def14-fb5f-4a28-8fd3-11a3bcb90254",
   "metadata": {},
   "source": [
    "### Step 6: Select Columns for Modeling"
   ]
  },
  {
   "cell_type": "code",
   "execution_count": 8,
   "id": "93179994-c030-4b87-b935-ec4f6780a0dd",
   "metadata": {},
   "outputs": [],
   "source": [
    "categorical_columns = ['category', 'channel_type', 'Country']\n",
    "all_columns = numeric_columns + categorical_columns + currency_columns+other_columns\n",
    "df_model = df[all_columns].copy()"
   ]
  },
  {
   "cell_type": "code",
   "execution_count": 9,
   "id": "9cbf37fe-dce6-4329-b77c-ab1e2158d8ea",
   "metadata": {},
   "outputs": [
    {
     "name": "stdout",
     "output_type": "stream",
     "text": [
      "✅ Data has been successfully encoded and scaled.\n"
     ]
    }
   ],
   "source": [
    "from sklearn.preprocessing import OneHotEncoder\n",
    "from sklearn.compose import ColumnTransformer\n",
    " \n",
    "# Separate numeric and categorical columns\n",
    "numerical_columns = numeric_columns + currency_columns + other_columns\n",
    "categorical_columns = ['category', 'channel_type', 'Country']\n",
    " \n",
    "# Define preprocessing pipeline\n",
    "from sklearn.pipeline import Pipeline\n",
    "from sklearn.impute import SimpleImputer\n",
    "from sklearn.preprocessing import StandardScaler\n",
    " \n",
    "preprocessor = ColumnTransformer(transformers=[\n",
    "    ('num', Pipeline([\n",
    "        ('imputer', SimpleImputer(strategy='median')),\n",
    "        ('scaler', StandardScaler())\n",
    "    ]), numerical_columns),\n",
    "    ('cat', OneHotEncoder(handle_unknown='ignore', sparse_output=False), categorical_columns)\n",
    "])\n",
    " \n",
    "# Fit-transform the full feature set\n",
    "X_transformed = preprocessor.fit_transform(df_model)\n",
    " \n",
    "print(\"✅ Data has been successfully encoded and scaled.\")"
   ]
  },
  {
   "cell_type": "raw",
   "id": "9cc1faee-6dd6-4eac-8d38-e68b5a35a96e",
   "metadata": {},
   "source": [
    "### Step 8: Split Features and Target"
   ]
  },
  {
   "cell_type": "code",
   "execution_count": 11,
   "id": "b704513a-b1e7-4b8d-8271-76ff90ca330a",
   "metadata": {},
   "outputs": [],
   "source": [
    "X = df_model.drop(['highest_yearly_earnings', 'lowest_yearly_earnings'], axis=1)\n",
    "y = df_model['lowest_yearly_earnings']  # or switch to lowest_yearly_earnings"
   ]
  },
  {
   "cell_type": "raw",
   "id": "c5f145ab-3516-434b-8df3-8f04f1c6d55a",
   "metadata": {},
   "source": [
    "### Step 10: Preview"
   ]
  },
  {
   "cell_type": "code",
   "execution_count": 12,
   "id": "52dde8bf-cc3b-453a-9a07-3d782247e66c",
   "metadata": {},
   "outputs": [
    {
     "name": "stdout",
     "output_type": "stream",
     "text": [
      "\n",
      "Data validation + cleaning complete.\n",
      "X shape: (995, 17)\n",
      "y shape: (995,)\n",
      "\n",
      "Feature sample:\n",
      "    subscribers  uploads   video views          category   channel_type  \\\n",
      "0    245000000    20082  2.280000e+11             Music          Music   \n",
      "1    170000000        1  0.000000e+00  Film & Animation          Games   \n",
      "2    166000000      741  2.836884e+10     Entertainment  Entertainment   \n",
      "3    162000000      966  1.640000e+11         Education      Education   \n",
      "4    159000000   116536  1.480000e+11             Shows  Entertainment   \n",
      "\n",
      "         Country  video_views_rank  country_rank  channel_type_rank  \\\n",
      "0          India               1.0           1.0                1.0   \n",
      "1  United States         4055159.0        7670.0             7423.0   \n",
      "2  United States              48.0           1.0                1.0   \n",
      "3  United States               2.0           2.0                1.0   \n",
      "4          India               3.0           2.0                2.0   \n",
      "\n",
      "   video_views_for_the_last_30_days  lowest_monthly_earnings  \\\n",
      "0                      2.258000e+09                 564600.0   \n",
      "1                      1.200000e+01                      0.0   \n",
      "2                      1.348000e+09                 337000.0   \n",
      "3                      1.975000e+09                 493800.0   \n",
      "4                      1.824000e+09                 455900.0   \n",
      "\n",
      "   highest_monthly_earnings  subscribers_for_last_30_days  \\\n",
      "0                9000000.00                     2000000.0   \n",
      "1                      0.05                           NaN   \n",
      "2                5400000.00                     8000000.0   \n",
      "3                7900000.00                     1000000.0   \n",
      "4                7300000.00                     1000000.0   \n",
      "\n",
      "   Gross tertiary education enrollment (%)    Population  Unemployment rate  \\\n",
      "0                                     28.1  1.366418e+09               5.36   \n",
      "1                                     88.2  3.282395e+08              14.70   \n",
      "2                                     88.2  3.282395e+08              14.70   \n",
      "3                                     88.2  3.282395e+08              14.70   \n",
      "4                                     28.1  1.366418e+09               5.36   \n",
      "\n",
      "   Urban_population  \n",
      "0       471031528.0  \n",
      "1       270663028.0  \n",
      "2       270663028.0  \n",
      "3       270663028.0  \n",
      "4       471031528.0  \n"
     ]
    }
   ],
   "source": [
    "print(\"\\nData validation + cleaning complete.\")\n",
    "print(\"X shape:\", X.shape)\n",
    "print(\"y shape:\", y.shape)\n",
    "print(\"\\nFeature sample:\\n\", X.head())"
   ]
  },
  {
   "cell_type": "code",
   "execution_count": 13,
   "id": "a6cba840-d498-456a-a143-05a74647cf32",
   "metadata": {},
   "outputs": [
    {
     "name": "stdout",
     "output_type": "stream",
     "text": [
      "['subscribers', 'uploads', 'video views', 'category', 'channel_type', 'Country', 'lowest_yearly_earnings', 'highest_yearly_earnings', 'video_views_rank', 'country_rank', 'channel_type_rank', 'video_views_for_the_last_30_days', 'lowest_monthly_earnings', 'highest_monthly_earnings', 'subscribers_for_last_30_days', 'Gross tertiary education enrollment (%)', 'Population', 'Unemployment rate', 'Urban_population']\n"
     ]
    }
   ],
   "source": [
    "print(df_model.columns.tolist())"
   ]
  },
  {
   "cell_type": "raw",
   "id": "ddf2ed6d-7e68-4fcf-87da-00be6a6d4278",
   "metadata": {},
   "source": [
    "### 5.Data Versioning (Reproducibility)\n",
    "\n",
    "We used **DVC (Data Version Control)** along with **Git** to version both raw and processed datasets. This ensures:\n",
    "- Reproducibility of experiments\n",
    "- Easy tracking of data changes\n",
    "- Collaboration safety in team settings"
   ]
  },
  {
   "cell_type": "raw",
   "id": "35b1db32-79e6-4fcc-b1ed-02bce3dd0ace",
   "metadata": {},
   "source": [
    "          ┌───────────────┐\n",
    "          │  git commit   │─── tracks code + .dvc\n",
    "          └──────┬────────┘\n",
    "                 │\n",
    "          ┌──────▼─────┐\n",
    "          │ .dvc files │───→ point to exact version of data\n",
    "          └──────┬─────┘\n",
    "                 │\n",
    "          ┌──────▼──────┐\n",
    "          │ DVC Cache   │─── stores actual .csv files\n",
    "          └─────────────┘"
   ]
  },
  {
   "cell_type": "raw",
   "id": "d896c57a-48e7-4f12-9ad2-ee211e08d7e7",
   "metadata": {},
   "source": [
    "We used Git and DVC together to keep track of both our code and data.\n",
    "\n",
    "Git saves versions of our code and notebooks.\n",
    "\n",
    "DVC saves versions of our datasets.\n",
    "\n",
    "This way, every time we make progress (like cleaning data or training a model), we can save that version, and later go back to it if needed."
   ]
  },
  {
   "cell_type": "code",
   "execution_count": 14,
   "id": "c311e812-33ff-42e0-861f-012e4bc7e88f",
   "metadata": {},
   "outputs": [
    {
     "name": "stdout",
     "output_type": "stream",
     "text": [
      "Missing columns: []\n",
      "Available columns: ['subscribers', 'uploads', 'video views', 'category', 'channel_type', 'Country', 'lowest_yearly_earnings', 'highest_yearly_earnings', 'video_views_rank', 'country_rank', 'channel_type_rank', 'video_views_for_the_last_30_days', 'lowest_monthly_earnings', 'highest_monthly_earnings', 'subscribers_for_last_30_days', 'Gross tertiary education enrollment (%)', 'Population', 'Unemployment rate', 'Urban_population']\n"
     ]
    }
   ],
   "source": [
    "missing_cols = [col for col in all_columns if col not in df_model.columns]\n",
    "print(\"Missing columns:\", missing_cols)\n",
    "print(\"Available columns:\", df_model.columns.tolist())"
   ]
  },
  {
   "cell_type": "raw",
   "id": "3a66ddbd-92ae-4919-8de7-353f6da7923c",
   "metadata": {},
   "source": [
    "### Model"
   ]
  },
  {
   "cell_type": "code",
   "execution_count": 15,
   "id": "967b1476-9759-49b6-a80d-150b964f44ef",
   "metadata": {},
   "outputs": [
    {
     "name": "stdout",
     "output_type": "stream",
     "text": [
      "Available columns in df_model: ['subscribers', 'uploads', 'video views', 'category', 'channel_type', 'Country', 'lowest_yearly_earnings', 'highest_yearly_earnings', 'video_views_rank', 'country_rank', 'channel_type_rank', 'video_views_for_the_last_30_days', 'lowest_monthly_earnings', 'highest_monthly_earnings', 'subscribers_for_last_30_days', 'Gross tertiary education enrollment (%)', 'Population', 'Unemployment rate', 'Urban_population']\n",
      "\n",
      "Random Forest Results:\n",
      "R² Score: 0.9013\n",
      "Mean Squared Error: 60030221137.4831\n",
      "Mean Absolute Percentage Error (MAPE): 1003.9749%\n",
      "Training Time: 4.96 seconds\n",
      "\n",
      "Top 5 Feature Importances for Random Forest:\n",
      "                                   Feature  Importance\n",
      "6         video_views_for_the_last_30_days    0.853812\n",
      "7             subscribers_for_last_30_days    0.036084\n",
      "3                         video_views_rank    0.026261\n",
      "1                              video views    0.021020\n",
      "8  Gross tertiary education enrollment (%)    0.017602\n",
      "\n",
      "XGBoost Results:\n",
      "R² Score: 0.9123\n",
      "Mean Squared Error: 53348846542.0862\n",
      "Mean Absolute Percentage Error (MAPE): 241168.8597%\n",
      "Training Time: 0.48 seconds\n",
      "\n",
      "Top 5 Feature Importances for XGBoost:\n",
      "                                    Feature  Importance\n",
      "6          video_views_for_the_last_30_days    0.649974\n",
      "1                               video views    0.230496\n",
      "8   Gross tertiary education enrollment (%)    0.069563\n",
      "0                               subscribers    0.014882\n",
      "13                          category_Comedy    0.011577\n",
      "\n",
      "Model Comparison:\n",
      "Random Forest R²: 0.9013, MSE: 60030221137.4831, MAPE: 1003.9749%, Training Time: 4.96s\n",
      "XGBoost R²: 0.9123, MSE: 53348846542.0862, MAPE: 241168.8597%, Training Time: 0.48s\n",
      "XGBoost performs better based on R² score.\n"
     ]
    }
   ],
   "source": [
    "import numpy as np\n",
    "import pandas as pd\n",
    "from sklearn.model_selection import train_test_split\n",
    "from sklearn.ensemble import RandomForestRegressor\n",
    "from sklearn.preprocessing import StandardScaler\n",
    "from sklearn.compose import ColumnTransformer\n",
    "from sklearn.pipeline import Pipeline\n",
    "from sklearn.impute import SimpleImputer\n",
    "from sklearn.preprocessing import OneHotEncoder\n",
    "from sklearn.metrics import r2_score, mean_squared_error\n",
    "from xgboost import XGBRegressor\n",
    "import time\n",
    "\n",
    "# Load the dataset\n",
    "data = df_model  # Ensure df_model is defined\n",
    "\n",
    "# Verify column names to prevent KeyError\n",
    "print(\"Available columns in df_model:\", data.columns.tolist())\n",
    "\n",
    "# Select features\n",
    "features = ['subscribers', 'video views', 'uploads', 'video_views_rank', 'country_rank', \n",
    "            'channel_type_rank', 'video_views_for_the_last_30_days', 'subscribers_for_last_30_days', \n",
    "            'Gross tertiary education enrollment (%)', 'Population', 'Unemployment rate', \n",
    "            'Urban_population', 'category', 'Country', 'channel_type']\n",
    "\n",
    "# Check for missing columns\n",
    "missing_cols = [col for col in features if col not in data.columns]\n",
    "if missing_cols:\n",
    "    raise KeyError(f\"Missing columns: {missing_cols}\")\n",
    "\n",
    "X = data[features]\n",
    "y = data['lowest_yearly_earnings']\n",
    "\n",
    "# Handle categorical and numerical features\n",
    "numerical_features = ['subscribers', 'video views', 'uploads', 'video_views_rank', 'country_rank', \n",
    "                      'channel_type_rank', 'video_views_for_the_last_30_days', 'subscribers_for_last_30_days', \n",
    "                      'Gross tertiary education enrollment (%)', 'Population', 'Unemployment rate', \n",
    "                      'Urban_population']\n",
    "categorical_features = ['category', 'Country', 'channel_type']\n",
    "\n",
    "# Preprocessing pipeline\n",
    "preprocessor = ColumnTransformer(\n",
    "    transformers=[\n",
    "        ('num', Pipeline([\n",
    "            ('imputer', SimpleImputer(strategy='mean')),\n",
    "            ('scaler', StandardScaler())\n",
    "        ]), numerical_features),\n",
    "        ('cat', Pipeline([\n",
    "            ('imputer', SimpleImputer(strategy='constant', fill_value='missing')),\n",
    "            ('onehot', OneHotEncoder(handle_unknown='ignore'))\n",
    "        ]), categorical_features)\n",
    "    ])\n",
    "\n",
    "# Define models\n",
    "rf_modelv1 = Pipeline([\n",
    "    ('preprocessor', preprocessor),\n",
    "    ('regressor', RandomForestRegressor(n_estimators=100, random_state=42))\n",
    "])\n",
    "\n",
    "xgb_modelv1 = Pipeline([\n",
    "    ('preprocessor', preprocessor),\n",
    "    ('regressor', XGBRegressor(n_estimators=100, learning_rate=0.1, max_depth=6, random_state=42))\n",
    "])\n",
    "\n",
    "# Split the data\n",
    "X_train, X_test, y_train, y_test = train_test_split(X, y, test_size=0.2, random_state=42)\n",
    "\n",
    "# Define MAPE function\n",
    "def mean_absolute_percentage_error(y_true, y_pred):\n",
    "    \"\"\"\n",
    "    Calculate Mean Absolute Percentage Error (MAPE).\n",
    "    Returns MAPE as a percentage.\n",
    "    \"\"\"\n",
    "    y_true, y_pred = np.array(y_true), np.array(y_pred)\n",
    "    non_zero_mask = y_true != 0  # Avoid division by zero\n",
    "    if not np.any(non_zero_mask):\n",
    "        return np.nan  # Return NaN if all values are zero\n",
    "    y_true, y_pred = y_true[non_zero_mask], y_pred[non_zero_mask]\n",
    "    return np.mean(np.abs((y_true - y_pred) / y_true)) * 100\n",
    "\n",
    "# Function to evaluate and print results\n",
    "def evaluate_model(model, model_name, X_train, X_test, y_train, y_test):\n",
    "    start_time = time.time()\n",
    "    model.fit(X_train, y_train)\n",
    "    train_time = time.time() - start_time\n",
    "    \n",
    "    y_pred = model.predict(X_test)\n",
    "    r2 = r2_score(y_test, y_pred)\n",
    "    mse = mean_squared_error(y_test, y_pred)\n",
    "    mape = mean_absolute_percentage_error(y_test, y_pred)\n",
    "    \n",
    "    print(f\"\\n{model_name} Results:\")\n",
    "    print(f\"R² Score: {r2:.4f}\")\n",
    "    print(f\"Mean Squared Error: {mse:.4f}\")\n",
    "    print(f\"Mean Absolute Percentage Error (MAPE): {mape:.4f}%\")\n",
    "    print(f\"Training Time: {train_time:.2f} seconds\")\n",
    "    \n",
    "    # Feature importance\n",
    "    feature_names = numerical_features + model.named_steps['preprocessor'].named_transformers_['cat'].named_steps['onehot'].get_feature_names_out(categorical_features).tolist()\n",
    "    importances = model.named_steps['regressor'].feature_importances_\n",
    "    feature_importance_df = pd.DataFrame({\n",
    "        'Feature': feature_names,\n",
    "        'Importance': importances\n",
    "    }).sort_values(by='Importance', ascending=False)\n",
    "    \n",
    "    print(f\"\\nTop 5 Feature Importances for {model_name}:\")\n",
    "    print(feature_importance_df.head(5))\n",
    "    \n",
    "    return r2, mse, mape, train_time\n",
    "\n",
    "# Evaluate Random Forest\n",
    "rf_r2, rf_mse, rf_mape, rf_time = evaluate_model(rf_modelv1, \"Random Forest\", X_train, X_test, y_train, y_test)\n",
    "\n",
    "# Evaluate XGBoost\n",
    "xgb_r2, xgb_mse, xgb_mape, xgb_time = evaluate_model(xgb_modelv1, \"XGBoost\", X_train, X_test, y_train, y_test)\n",
    "\n",
    "# Compare models\n",
    "print(\"\\nModel Comparison:\")\n",
    "print(f\"Random Forest R²: {rf_r2:.4f}, MSE: {rf_mse:.4f}, MAPE: {rf_mape:.4f}%, Training Time: {rf_time:.2f}s\")\n",
    "print(f\"XGBoost R²: {xgb_r2:.4f}, MSE: {xgb_mse:.4f}, MAPE: {xgb_mape:.4f}%, Training Time: {xgb_time:.2f}s\")\n",
    "if rf_r2 > xgb_r2:\n",
    "    print(\"Random Forest performs better based on R² score.\")\n",
    "else:\n",
    "    print(\"XGBoost performs better based on R² score.\")"
   ]
  },
  {
   "cell_type": "raw",
   "id": "149323c3-7953-497f-9368-f82329ab9cae",
   "metadata": {},
   "source": [
    "### Best Model with hyperparameter tuning"
   ]
  },
  {
   "cell_type": "code",
   "execution_count": 16,
   "id": "20edbcae-293f-4083-867b-cda0123b6d7e",
   "metadata": {},
   "outputs": [
    {
     "name": "stdout",
     "output_type": "stream",
     "text": [
      "Available columns in df_model: ['subscribers', 'uploads', 'video views', 'category', 'channel_type', 'Country', 'lowest_yearly_earnings', 'highest_yearly_earnings', 'video_views_rank', 'country_rank', 'channel_type_rank', 'video_views_for_the_last_30_days', 'lowest_monthly_earnings', 'highest_monthly_earnings', 'subscribers_for_last_30_days', 'Gross tertiary education enrollment (%)', 'Population', 'Unemployment rate', 'Urban_population']\n",
      "\n",
      "Running Grid Search for Random Forest...\n",
      "\n",
      "Running Grid Search for XGBoost...\n",
      "\n",
      "Best Random Forest Parameters: {'regressor__max_depth': None, 'regressor__min_samples_leaf': 1, 'regressor__min_samples_split': 5, 'regressor__n_estimators': 100}\n",
      "Best Random Forest CV R²: 0.8361842345831066\n",
      "\n",
      "Best XGBoost Parameters: {'regressor__colsample_bytree': 0.8, 'regressor__learning_rate': 0.05, 'regressor__max_depth': 6, 'regressor__n_estimators': 100, 'regressor__subsample': 0.8}\n",
      "Best XGBoost CV R²: 0.7897218190951614\n",
      "\n",
      "Best Random Forest Results:\n",
      "R² Score: 0.9071\n",
      "Mean Squared Error: 56523272759.8286\n",
      "Mean Absolute Percentage Error (MAPE): 1269.4289%\n",
      "Training Time: 3.31 seconds\n",
      "\n",
      "Top 5 Feature Importances for Best Random Forest:\n",
      "                                   Feature  Importance\n",
      "6         video_views_for_the_last_30_days    0.859229\n",
      "7             subscribers_for_last_30_days    0.036766\n",
      "3                         video_views_rank    0.028231\n",
      "1                              video views    0.016985\n",
      "8  Gross tertiary education enrollment (%)    0.016818\n",
      "\n",
      "Best XGBoost Results:\n",
      "R² Score: 0.9367\n",
      "Mean Squared Error: 38520753823.2053\n",
      "Mean Absolute Percentage Error (MAPE): 344879.9397%\n",
      "Training Time: 0.33 seconds\n",
      "\n",
      "Top 5 Feature Importances for Best XGBoost:\n",
      "                             Feature  Importance\n",
      "6   video_views_for_the_last_30_days    0.241593\n",
      "7       subscribers_for_last_30_days    0.119900\n",
      "49                 Country_Indonesia    0.079199\n",
      "1                        video views    0.063032\n",
      "89               channel_type_People    0.062503\n"
     ]
    },
    {
     "data": {
      "image/png": "[encoded data removed]",
      "text/plain": [
       "<Figure size 1000x600 with 1 Axes>"
      ]
     },
     "metadata": {},
     "output_type": "display_data"
    },
    {
     "data": {
      "image/png": "[encoded data removed]",
      "text/plain": [
       "<Figure size 1400x600 with 2 Axes>"
      ]
     },
     "metadata": {},
     "output_type": "display_data"
    },
    {
     "data": {
      "image/png": "[encoded data removed]",
      "text/plain": [
       "<Figure size 1400x600 with 2 Axes>"
      ]
     },
     "metadata": {},
     "output_type": "display_data"
    },
    {
     "name": "stdout",
     "output_type": "stream",
     "text": [
      "\n",
      "Model Comparison:\n",
      "Best Random Forest R²: 0.9071, MSE: 56523272759.8286, MAPE: 1269.4289%, Training Time: 3.31s\n",
      "Best XGBoost R²: 0.9367, MSE: 38520753823.2053, MAPE: 344879.9397%, Training Time: 0.33s\n",
      "Best XGBoost performs better based on R² score.\n"
     ]
    }
   ],
   "source": [
    "import numpy as np\n",
    "import pandas as pd\n",
    "import matplotlib.pyplot as plt\n",
    "import seaborn as sns\n",
    "from sklearn.model_selection import train_test_split, GridSearchCV\n",
    "from sklearn.ensemble import RandomForestRegressor\n",
    "from sklearn.preprocessing import StandardScaler\n",
    "from sklearn.compose import ColumnTransformer\n",
    "from sklearn.pipeline import Pipeline\n",
    "from sklearn.impute import SimpleImputer\n",
    "from sklearn.preprocessing import OneHotEncoder\n",
    "from sklearn.metrics import r2_score, mean_squared_error\n",
    "from xgboost import XGBRegressor\n",
    "import time\n",
    "\n",
    "# Load the dataset\n",
    "data = df_model  # Ensure df_model is defined\n",
    "\n",
    "# Verify column names to prevent KeyError\n",
    "print(\"Available columns in df_model:\", data.columns.tolist())\n",
    "\n",
    "# Select features\n",
    "features = ['subscribers', 'video views', 'uploads', 'video_views_rank', 'country_rank', \n",
    "            'channel_type_rank', 'video_views_for_the_last_30_days', 'subscribers_for_last_30_days', \n",
    "            'Gross tertiary education enrollment (%)', 'Population', 'Unemployment rate', \n",
    "            'Urban_population', 'category', 'Country', 'channel_type']\n",
    "\n",
    "# Check for missing columns\n",
    "missing_cols = [col for col in features if col not in data.columns]\n",
    "if missing_cols:\n",
    "    raise KeyError(f\"Missing columns: {missing_cols}\")\n",
    "\n",
    "X = data[features]\n",
    "y = data['lowest_yearly_earnings']\n",
    "\n",
    "# Handle categorical and numerical features\n",
    "numerical_features = ['subscribers', 'video views', 'uploads', 'video_views_rank', 'country_rank', \n",
    "                      'channel_type_rank', 'video_views_for_the_last_30_days', 'subscribers_for_last_30_days', \n",
    "                      'Gross tertiary education enrollment (%)', 'Population', 'Unemployment rate', \n",
    "                      'Urban_population']\n",
    "categorical_features = ['category', 'Country', 'channel_type']\n",
    "\n",
    "# Preprocessing pipeline\n",
    "preprocessor = ColumnTransformer(\n",
    "    transformers=[\n",
    "        ('num', Pipeline([\n",
    "            ('imputer', SimpleImputer(strategy='mean')),\n",
    "            ('scaler', StandardScaler())\n",
    "        ]), numerical_features),\n",
    "        ('cat', Pipeline([\n",
    "            ('imputer', SimpleImputer(strategy='constant', fill_value='missing')),\n",
    "            ('onehot', OneHotEncoder(handle_unknown='ignore'))\n",
    "        ]), categorical_features)\n",
    "    ])\n",
    "\n",
    "# Define parameter grids\n",
    "rf_param_grid = {\n",
    "    'regressor__n_estimators': [100, 200],\n",
    "    'regressor__max_depth': [10, 20, None],\n",
    "    'regressor__min_samples_split': [2, 5],\n",
    "    'regressor__min_samples_leaf': [1, 2]\n",
    "}\n",
    "\n",
    "xgb_param_grid = {\n",
    "    'regressor__n_estimators': [100, 200],\n",
    "    'regressor__learning_rate': [0.05, 0.1],\n",
    "    'regressor__max_depth': [3, 6, 9],\n",
    "    'regressor__subsample': [0.8, 1.0],\n",
    "    'regressor__colsample_bytree': [0.8, 1.0]\n",
    "}\n",
    "\n",
    "# Define models\n",
    "rf_pipeline = Pipeline([\n",
    "    ('preprocessor', preprocessor),\n",
    "    ('regressor', RandomForestRegressor(random_state=42))\n",
    "])\n",
    "\n",
    "xgb_pipeline = Pipeline([\n",
    "    ('preprocessor', preprocessor),\n",
    "    ('regressor', XGBRegressor(random_state=42))\n",
    "])\n",
    "\n",
    "# Split the data\n",
    "X_train, X_test, y_train, y_test = train_test_split(X, y, test_size=0.2, random_state=42)\n",
    "\n",
    "# Define MAPE function\n",
    "def mean_absolute_percentage_error(y_true, y_pred):\n",
    "    y_true, y_pred = np.array(y_true), np.array(y_pred)\n",
    "    non_zero_mask = y_true != 0\n",
    "    if not np.any(non_zero_mask):\n",
    "        return np.nan\n",
    "    y_true, y_pred = y_true[non_zero_mask], y_pred[non_zero_mask]\n",
    "    return np.mean(np.abs((y_true - y_pred) / y_true)) * 100\n",
    "\n",
    "# Function to evaluate and print results\n",
    "def evaluate_model(model, model_name, X_train, X_test, y_train, y_test):\n",
    "    start_time = time.time()\n",
    "    model.fit(X_train, y_train)\n",
    "    train_time = time.time() - start_time\n",
    "    \n",
    "    y_pred = model.predict(X_test)\n",
    "    r2 = r2_score(y_test, y_pred)\n",
    "    mse = mean_squared_error(y_test, y_pred)\n",
    "    mape = mean_absolute_percentage_error(y_test, y_pred)\n",
    "    \n",
    "    print(f\"\\n{model_name} Results:\")\n",
    "    print(f\"R² Score: {r2:.4f}\")\n",
    "    print(f\"Mean Squared Error: {mse:.4f}\")\n",
    "    print(f\"Mean Absolute Percentage Error (MAPE): {mape:.4f}%\")\n",
    "    print(f\"Training Time: {train_time:.2f} seconds\")\n",
    "    \n",
    "    # Feature importance\n",
    "    feature_names = numerical_features + model.named_steps['preprocessor'].named_transformers_['cat'].named_steps['onehot'].get_feature_names_out(categorical_features).tolist()\n",
    "    importances = model.named_steps['regressor'].feature_importances_\n",
    "    feature_importance_df = pd.DataFrame({\n",
    "        'Feature': feature_names,\n",
    "        'Importance': importances\n",
    "    }).sort_values(by='Importance', ascending=False)\n",
    "    \n",
    "    print(f\"\\nTop 5 Feature Importances for {model_name}:\")\n",
    "    print(feature_importance_df.head(5))\n",
    "    \n",
    "    return r2, mse, mape, train_time, y_pred, feature_importance_df\n",
    "\n",
    "# Perform Grid Search\n",
    "print(\"\\nRunning Grid Search for Random Forest...\")\n",
    "rf_grid_search = GridSearchCV(rf_pipeline, rf_param_grid, cv=5, scoring='r2', n_jobs=-1)\n",
    "rf_grid_search.fit(X_train, y_train)\n",
    "\n",
    "print(\"\\nRunning Grid Search for XGBoost...\")\n",
    "xgb_grid_search = GridSearchCV(xgb_pipeline, xgb_param_grid, cv=5, scoring='r2', n_jobs=-1)\n",
    "xgb_grid_search.fit(X_train, y_train)\n",
    "\n",
    "# Get best models\n",
    "best_rf_model = rf_grid_search.best_estimator_\n",
    "best_xgb_model = xgb_grid_search.best_estimator_\n",
    "\n",
    "# Print best parameters\n",
    "print(\"\\nBest Random Forest Parameters:\", rf_grid_search.best_params_)\n",
    "print(\"Best Random Forest CV R²:\", rf_grid_search.best_score_)\n",
    "print(\"\\nBest XGBoost Parameters:\", xgb_grid_search.best_params_)\n",
    "print(\"Best XGBoost CV R²:\", xgb_grid_search.best_score_)\n",
    "\n",
    "# Evaluate best models\n",
    "rf_r2, rf_mse, rf_mape, rf_time, rf_y_pred, rf_feature_importance = evaluate_model(best_rf_model, \"Best Random Forest\", X_train, X_test, y_train, y_test)\n",
    "xgb_r2, xgb_mse, xgb_mape, xgb_time, xgb_y_pred, xgb_feature_importance = evaluate_model(best_xgb_model, \"Best XGBoost\", X_train, X_test, y_train, y_test)\n",
    "\n",
    "# Plotting functions\n",
    "def plot_metrics(rf_metrics, xgb_metrics):\n",
    "    metrics = ['R² Score', 'MSE', 'MAPE']\n",
    "    rf_values = [rf_metrics[0], rf_metrics[1] / 1e9, rf_metrics[2]]\n",
    "    xgb_values = [xgb_metrics[0], xgb_metrics[1] / 1e9, xgb_metrics[2]]\n",
    "    \n",
    "    x = np.arange(len(metrics))\n",
    "    width = 0.35\n",
    "    \n",
    "    fig, ax = plt.subplots(figsize=(10, 6))\n",
    "    ax.bar(x - width/2, rf_values, width, label='Random Forest', color='skyblue')\n",
    "    ax.bar(x + width/2, xgb_values, width, label='XGBoost', color='lightcoral')\n",
    "    \n",
    "    ax.set_ylabel('Metric Value')\n",
    "    ax.set_title('Best Model Performance Comparison')\n",
    "    ax.set_xticks(x)\n",
    "    ax.set_xticklabels(['R² Score', 'MSE (x10^9)', 'MAPE (%)'])\n",
    "    ax.legend()\n",
    "    \n",
    "    for i, v in enumerate(rf_values):\n",
    "        ax.text(i - width/2, v + 0.01 * max(rf_values + xgb_values), f\"{v:.2f}\", ha='center')\n",
    "    for i, v in enumerate(xgb_values):\n",
    "        ax.text(i + width/2, v + 0.01 * max(rf_values + xgb_values), f\"{v:.2f}\", ha='center')\n",
    "    \n",
    "    plt.tight_layout()\n",
    "    plt.show()\n",
    "\n",
    "def plot_feature_importance(rf_importance, xgb_importance, n_top=5):\n",
    "    fig, (ax1, ax2) = plt.subplots(1, 2, figsize=(14, 6), sharey=True)\n",
    "    \n",
    "    rf_top = rf_importance.head(n_top)\n",
    "    sns.barplot(x='Importance', y='Feature', data=rf_top, ax=ax1, color='skyblue')\n",
    "    ax1.set_title('Best Random Forest Feature Importance')\n",
    "    ax1.set_xlabel('Importance')\n",
    "    \n",
    "    xgb_top = xgb_importance.head(n_top)\n",
    "    sns.barplot(x='Importance', y='Feature', data=xgb_top, ax=ax2, color='lightcoral')\n",
    "    ax2.set_title('Best XGBoost Feature Importance')\n",
    "    ax2.set_xlabel('Importance')\n",
    "    \n",
    "    plt.tight_layout()\n",
    "    plt.show()\n",
    "\n",
    "def plot_actual_vs_predicted(y_test, rf_y_pred, xgb_y_pred):\n",
    "    fig, (ax1, ax2) = plt.subplots(1, 2, figsize=(14, 6), sharey=True)\n",
    "    \n",
    "    ax1.scatter(y_test, rf_y_pred, alpha=0.5, color='skyblue', s=50)\n",
    "    ax1.plot([y_test.min(), y_test.max()], [y_test.min(), y_test.max()], 'k--', lw=2)\n",
    "    ax1.set_title('Best Random Forest: Actual vs. Predicted')\n",
    "    ax1.set_xlabel('Actual lowest_yearly_earnings')\n",
    "    ax1.set_ylabel('Predicted lowest_yearly_earnings')\n",
    "    \n",
    "    ax2.scatter(y_test, xgb_y_pred, alpha=0.5, color='lightcoral', s=50)\n",
    "    ax2.plot([y_test.min(), y_test.max()], [y_test.min(), y_test.max()], 'k--', lw=2)\n",
    "    ax2.set_title('Best XGBoost: Actual vs. Predicted')\n",
    "    ax2.set_xlabel('Actual lowest_yearly_earnings')\n",
    "    \n",
    "    plt.tight_layout()\n",
    "    plt.show()\n",
    "\n",
    "# Plot results\n",
    "plot_metrics([rf_r2, rf_mse, rf_mape], [xgb_r2, xgb_mse, xgb_mape])\n",
    "plot_feature_importance(rf_feature_importance, xgb_feature_importance)\n",
    "plot_actual_vs_predicted(y_test, rf_y_pred, xgb_y_pred)\n",
    "\n",
    "# Compare models\n",
    "print(\"\\nModel Comparison:\")\n",
    "print(f\"Best Random Forest R²: {rf_r2:.4f}, MSE: {rf_mse:.4f}, MAPE: {rf_mape:.4f}%, Training Time: {rf_time:.2f}s\")\n",
    "print(f\"Best XGBoost R²: {xgb_r2:.4f}, MSE: {xgb_mse:.4f}, MAPE: {xgb_mape:.4f}%, Training Time: {xgb_time:.2f}s\")\n",
    "if rf_r2 > xgb_r2:\n",
    "    print(\"Best Random Forest performs better based on R² score.\")\n",
    "else:\n",
    "    print(\"Best XGBoost performs better based on R² score.\")"
   ]
  },
  {
   "cell_type": "code",
   "execution_count": 17,
   "id": "a63af146-9923-40f6-bb55-c538abc3eb88",
   "metadata": {},
   "outputs": [
    {
     "name": "stdout",
     "output_type": "stream",
     "text": [
      "✅ Model, parameters, and metrics logged to MLflow.\n"
     ]
    },
    {
     "name": "stderr",
     "output_type": "stream",
     "text": [
      "Successfully registered model 'YouTubeEarningsXGBoost'.\n",
      "Created version '1' of model 'YouTubeEarningsXGBoost'.\n"
     ]
    }
   ],
   "source": [
    "import mlflow\n",
    "import mlflow.sklearn\n",
    "\n",
    "# Set or create an experiment name\n",
    "mlflow.set_experiment(\"YouTube Earnings Prediction\")\n",
    "\n",
    "with mlflow.start_run(run_name=\"XGBoost Tuned Model\"):\n",
    "\n",
    "    # Log model hyperparameters from GridSearch\n",
    "    best_params = xgb_grid_search.best_params_\n",
    "    for param_name, param_value in best_params.items():\n",
    "        mlflow.log_param(param_name, param_value)\n",
    "\n",
    "    # Log model performance metrics\n",
    "    mlflow.log_metric(\"r2_score\", xgb_r2)\n",
    "    mlflow.log_metric(\"mse\", xgb_mse)\n",
    "    mlflow.log_metric(\"mape\", xgb_mape)\n",
    "    mlflow.log_metric(\"training_time\", xgb_time)\n",
    "\n",
    "    # Log the trained pipeline model\n",
    "    mlflow.sklearn.log_model(best_xgb_model, artifact_path=\"xgb_model\", registered_model_name=\"YouTubeEarningsXGBoost\")\n",
    "\n",
    "    print(\"✅ Model, parameters, and metrics logged to MLflow.\")"
   ]
  },
  {
   "cell_type": "code",
   "execution_count": 18,
   "id": "59f7bde4-d02f-44c1-bc2f-6de168d0ed2f",
   "metadata": {},
   "outputs": [
    {
     "name": "stderr",
     "output_type": "stream",
     "text": [
      "V:\\Education\\MSIS\\Spring 2025\\2nd Flex\\ML Design\\Anaconda\\Lib\\site-packages\\mlflow\\types\\utils.py:394: UserWarning: Hint: Inferred schema contains integer column(s). Integer columns in Python cannot represent missing values. If your input data contains missing values at inference time, it will be encoded as floats and will cause a schema enforcement error. The best way to avoid this problem is to infer the model schema based on a realistic data sample (training dataset) that includes missing values. Alternatively, you can declare integer columns as doubles (float64) whenever these columns may have missing values. See `Handling Integers With Missing Values <https://www.mlflow.org/docs/latest/models.html#handling-integers-with-missing-values>`_ for more details.\n",
      "  warnings.warn(\n"
     ]
    },
    {
     "name": "stdout",
     "output_type": "stream",
     "text": [
      "✅ XGBoost Version 2 logged and registered in MLflow.\n"
     ]
    },
    {
     "name": "stderr",
     "output_type": "stream",
     "text": [
      "Registered model 'YouTubeEarningsXGBoost' already exists. Creating a new version of this model...\n",
      "Created version '2' of model 'YouTubeEarningsXGBoost'.\n"
     ]
    }
   ],
   "source": [
    "import mlflow\n",
    "import mlflow.sklearn\n",
    "\n",
    "# Set experiment (already created from last run)\n",
    "mlflow.set_experiment(\"YouTube Earnings Prediction\")\n",
    "\n",
    "# Version 2 logging\n",
    "with mlflow.start_run(run_name=\"XGBoost Tuned Model V2\"):\n",
    "\n",
    "    best_params_v2 = xgb_grid_search.best_params_  # or slightly altered params\n",
    "\n",
    "    # Log parameters (can be same or different from version 1)\n",
    "    for param_name, param_value in best_params_v2.items():\n",
    "        mlflow.log_param(param_name, param_value)\n",
    "\n",
    "    # Log new metrics from evaluation\n",
    "    mlflow.log_metric(\"r2_score\", xgb_r2)\n",
    "    mlflow.log_metric(\"mse\", xgb_mse)\n",
    "    mlflow.log_metric(\"mape\", xgb_mape)\n",
    "    mlflow.log_metric(\"training_time\", xgb_time)\n",
    "\n",
    "    # Optionally provide an input sample for cleaner signature\n",
    "    input_example = X_test.iloc[:1]\n",
    "\n",
    "    # Log version 2 of the model\n",
    "    mlflow.sklearn.log_model(\n",
    "        sk_model=best_xgb_model,\n",
    "        artifact_path=\"xgb_model\",\n",
    "        registered_model_name=\"YouTubeEarningsXGBoost\",\n",
    "        input_example=input_example\n",
    "    )\n",
    "\n",
    "    print(\"✅ XGBoost Version 2 logged and registered in MLflow.\")"
   ]
  },
  {
   "cell_type": "code",
   "execution_count": 19,
   "id": "1989eca7-ef98-4b6d-9c74-83c37161fc86",
   "metadata": {},
   "outputs": [
    {
     "name": "stderr",
     "output_type": "stream",
     "text": [
      "V:\\Education\\MSIS\\Spring 2025\\2nd Flex\\ML Design\\Anaconda\\Lib\\site-packages\\mlflow\\types\\utils.py:394: UserWarning: Hint: Inferred schema contains integer column(s). Integer columns in Python cannot represent missing values. If your input data contains missing values at inference time, it will be encoded as floats and will cause a schema enforcement error. The best way to avoid this problem is to infer the model schema based on a realistic data sample (training dataset) that includes missing values. Alternatively, you can declare integer columns as doubles (float64) whenever these columns may have missing values. See `Handling Integers With Missing Values <https://www.mlflow.org/docs/latest/models.html#handling-integers-with-missing-values>`_ for more details.\n",
      "  warnings.warn(\n"
     ]
    },
    {
     "name": "stdout",
     "output_type": "stream",
     "text": [
      "✅ Random Forest Version 2 logged and registered in MLflow.\n"
     ]
    },
    {
     "name": "stderr",
     "output_type": "stream",
     "text": [
      "Successfully registered model 'YouTubeEarningsRandomForest'.\n",
      "Created version '1' of model 'YouTubeEarningsRandomForest'.\n"
     ]
    }
   ],
   "source": [
    "with mlflow.start_run(run_name=\"Random Forest Tuned Model V2\"):\n",
    "\n",
    "    best_rf_params_v2 = rf_grid_search.best_params_\n",
    "\n",
    "    for param_name, param_value in best_rf_params_v2.items():\n",
    "        mlflow.log_param(param_name, param_value)\n",
    "\n",
    "    mlflow.log_metric(\"r2_score\", rf_r2)\n",
    "    mlflow.log_metric(\"mse\", rf_mse)\n",
    "    mlflow.log_metric(\"mape\", rf_mape)\n",
    "    mlflow.log_metric(\"training_time\", rf_time)\n",
    "\n",
    "    input_example_rf = X_test.iloc[:1]\n",
    "\n",
    "    mlflow.sklearn.log_model(\n",
    "        sk_model=best_rf_model,\n",
    "        artifact_path=\"rf_model\",\n",
    "        registered_model_name=\"YouTubeEarningsRandomForest\",\n",
    "        input_example=input_example_rf\n",
    "    )\n",
    "\n",
    "    print(\"✅ Random Forest Version 2 logged and registered in MLflow.\")"
   ]
  },
  {
   "cell_type": "code",
   "execution_count": 20,
   "id": "c824a450-ef48-457c-b04a-2cb50c51d594",
   "metadata": {},
   "outputs": [
    {
     "data": {
      "text/plain": [
       "['model_pipeline.pkl']"
      ]
     },
     "execution_count": 20,
     "metadata": {},
     "output_type": "execute_result"
    }
   ],
   "source": [
    "import joblib\n",
    "\n",
    "# choose the best pipeline\n",
    "if rf_r2 > xgb_r2:\n",
    "    best_pipeline = best_rf_model\n",
    "else:\n",
    "    best_pipeline = best_xgb_model\n",
    "\n",
    "# serialize!\n",
    "joblib.dump(best_pipeline, \"model_pipeline.pkl\")"
   ]
  }
 ],
 "metadata": {
  "kernelspec": {
   "display_name": "Python 3 (ipykernel)",
   "language": "python",
   "name": "python3"
  },
  "language_info": {
   "codemirror_mode": {
    "name": "ipython",
    "version": 3
   },
   "file_extension": ".py",
   "mimetype": "text/x-python",
   "name": "python",
   "nbconvert_exporter": "python",
   "pygments_lexer": "ipython3",
   "version": "3.12.7"
  }
 },
 "nbformat": 4,
 "nbformat_minor": 5
}
